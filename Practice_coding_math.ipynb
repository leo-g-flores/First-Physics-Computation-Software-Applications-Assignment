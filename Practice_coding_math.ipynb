{
  "nbformat": 4,
  "nbformat_minor": 0,
  "metadata": {
    "colab": {
      "provenance": [],
      "authorship_tag": "ABX9TyOl8JZ7iECm691ACvtCL/ot",
      "include_colab_link": true
    },
    "kernelspec": {
      "name": "python3",
      "display_name": "Python 3"
    },
    "language_info": {
      "name": "python"
    }
  },
  "cells": [
    {
      "cell_type": "markdown",
      "metadata": {
        "id": "view-in-github",
        "colab_type": "text"
      },
      "source": [
        "<a href=\"https://colab.research.google.com/github/leo-g-flores/First-Physics-Computation-Software-Applications-Assignment/blob/main/Practice_coding_math.ipynb\" target=\"_parent\"><img src=\"https://colab.research.google.com/assets/colab-badge.svg\" alt=\"Open In Colab\"/></a>"
      ]
    },
    {
      "cell_type": "markdown",
      "source": [
        "# expressions and variables\n",
        "2 + 2 # this is an expression\n",
        "# print(2 + 2) # testing an expression\n",
        "\n",
        "# I assign variables with the '=' operator\n",
        "my_variable = 2 + 3.1 * 1j\n",
        "#print(my_variable)\n",
        "\n",
        "\n",
        "2 + 3 == my_variable # the '==' operator checks equivalence\n",
        "\n",
        "# arithmetic operators : +, -, *, /, **, %, //\n",
        "# comparison operators : '==' checking equivalence...\n",
        "\n",
        "# test what type of objects we are working with\n",
        "# the types of types are: int, float, complex, str, bool,...\n",
        "type(my_variable)\n",
        "\n",
        "# 'int' was short for 'integer'\n",
        "# 'float' : floating point numbers (decimals)\n",
        "# 'complex' : complex numbers\n",
        "\n",
        "# getting more information about objects\n",
        "# 'type' tells me what type of object it is\n",
        "# 'dir' is a directory of tools (methods, dunder method, attributes) built into the object\n",
        "# 'help' gives a help document\n",
        "# ?, ??, which open \"docstrinngs\" -- a short version of key information\n",
        "# type(my_variable)\n",
        "# dir(complex) # accessing the directory for an object/type\n",
        "print(my_variable)\n",
        "help(my_variable)\n",
        "my_variable.conjugate()\n"
      ],
      "metadata": {
        "id": "f5SvoeGVMg1r"
      }
    },
    {
      "cell_type": "code",
      "source": [
        "# basic troubleshooting procedure\n",
        "# use type() to see what type of object you are working with\n",
        "# use dir() to see what options are available (dunder methods, methods...)\n",
        "# use ?, ??\n",
        "# use help()\n",
        "# go to online documentation, gemini, ot other code-literate generative AI\n",
        "\n",
        "# see what variables are defined using '%who', or '%ehos'\n",
        "# you can delete assigned objects (variables, functions, etc) with 'del'\n",
        "del my_variable\n"
      ],
      "metadata": {
        "id": "gMJRo2AnVqY1"
      },
      "execution_count": null,
      "outputs": []
    },
    {
      "cell_type": "code",
      "source": [
        "# build up the kinetic, potential, and total energy for a (linear) spring-mass system\n",
        "#define/assign variable\n",
        "m = 1 # mass in kg\n",
        "v = 1 # velocity in m/s\n",
        "k = 1 # spring constant in N/m\n",
        "x = 1 # displacement in m\n",
        "kinetic_energy = .5 * m * v ** 2 # kinetic energy in J\n",
        "potential_energy = .5 * k * x **2 # potential energy in the spring in J\n",
        "total_energy = kinetic_energy + potential_energy\n",
        "print(total energy)\n",
        "\n"
      ],
      "metadata": {
        "id": "vRPcD81RXguP"
      },
      "execution_count": null,
      "outputs": []
    }
  ]
}